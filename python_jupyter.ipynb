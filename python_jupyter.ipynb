{
 "cells": [
  {
   "cell_type": "code",
   "execution_count": 22,
   "metadata": {},
   "outputs": [
    {
     "name": "stdout",
     "output_type": "stream",
     "text": [
      "5\n"
     ]
    }
   ],
   "source": [
    "x = 3\n",
    "y = 2\n",
    "print(x+y)"
   ]
  },
  {
   "cell_type": "code",
   "execution_count": 24,
   "metadata": {},
   "outputs": [
    {
     "name": "stdout",
     "output_type": "stream",
     "text": [
      "5\n"
     ]
    }
   ],
   "source": [
    "x = \"3\"\n",
    "y = \"2\"\n",
    "print(int(x)+int(y))"
   ]
  },
  {
   "cell_type": "code",
   "execution_count": 26,
   "metadata": {},
   "outputs": [
    {
     "name": "stdout",
     "output_type": "stream",
     "text": [
      "27000000\n"
     ]
    }
   ],
   "source": [
    "x = 300\n",
    "print(x**3)"
   ]
  },
  {
   "cell_type": "code",
   "execution_count": 27,
   "metadata": {},
   "outputs": [
    {
     "name": "stdout",
     "output_type": "stream",
     "text": [
      "원의 반지름 4.0\n",
      "원의 면적 50.24\n",
      "원의 둘레 25.12\n"
     ]
    }
   ],
   "source": [
    "print('원의 반지름', 4.0)\n",
    "print('원의 면적', 3.14 * 4.0 * 4.0)\n",
    "print('원의 둘레', 2.0 * 3.14 * 4.0)"
   ]
  },
  {
   "cell_type": "code",
   "execution_count": 28,
   "metadata": {},
   "outputs": [
    {
     "name": "stdout",
     "output_type": "stream",
     "text": [
      "원의 반지름 4.0\n",
      "원의 면적 50.24\n",
      "원의 둘레 25.12\n"
     ]
    }
   ],
   "source": [
    "radius = 4.0\n",
    "print('원의 반지름', radius)\n",
    "print('원의 면적', 3.14 * radius * radius)\n",
    "print('원의 둘레', 2.0 * 3.14 * radius)"
   ]
  },
  {
   "cell_type": "code",
   "execution_count": 34,
   "metadata": {},
   "outputs": [
    {
     "name": "stdout",
     "output_type": "stream",
     "text": [
      "원의 반지름 4.0\n",
      "원의 면적 50.24\n",
      "원의 둘레 2.0 * 3.14 * radius\n"
     ]
    }
   ],
   "source": [
    "radius = 4.0\n",
    "print('원의 반지름', radius)\n",
    "print('원의 면적', 3.14 * radius * radius)\n",
    "print('원의 둘레',\"2.0 * 3.14 * radius\")"
   ]
  },
  {
   "cell_type": "markdown",
   "metadata": {},
   "source": [
    "summ = 100\n",
    "lst = [10, 20, 30]\n",
    "total = sum(lst)"
   ]
  },
  {
   "cell_type": "code",
   "execution_count": 40,
   "metadata": {},
   "outputs": [
    {
     "name": "stdout",
     "output_type": "stream",
     "text": [
      "'안녕!' 나는 김종환 이야. 나는 나이가 27 살이야.\n"
     ]
    }
   ],
   "source": [
    "name = '김종환'\n",
    "age = 27\n",
    "print(\"'안녕!' 나는\", name,'이야. 나는 나이가',age,'살이야.')"
   ]
  },
  {
   "cell_type": "code",
   "execution_count": 41,
   "metadata": {},
   "outputs": [
    {
     "name": "stdout",
     "output_type": "stream",
     "text": [
      "사각형의 면적 1200\n"
     ]
    }
   ],
   "source": [
    "width = 20\n",
    "height = 40\n",
    "width = 30\n",
    "area = width * height\n",
    "print('사각형의 면적', area)"
   ]
  },
  {
   "cell_type": "code",
   "execution_count": 42,
   "metadata": {},
   "outputs": [
    {
     "name": "stdout",
     "output_type": "stream",
     "text": [
      "area 1200\n"
     ]
    }
   ],
   "source": [
    "width = 20\n",
    "height = 40\n",
    "width = 30\n",
    "area = width * height\n",
    "print('area', width * height)"
   ]
  },
  {
   "cell_type": "code",
   "execution_count": 44,
   "metadata": {},
   "outputs": [
    {
     "data": {
      "text/plain": [
       "3.9"
      ]
     },
     "execution_count": 44,
     "metadata": {},
     "output_type": "execute_result"
    }
   ],
   "source": [
    "4-0.1"
   ]
  },
  {
   "cell_type": "code",
   "execution_count": 52,
   "metadata": {},
   "outputs": [
    {
     "data": {
      "text/plain": [
       "1.7320508075688772"
      ]
     },
     "execution_count": 52,
     "metadata": {},
     "output_type": "execute_result"
    }
   ],
   "source": [
    "3**(1/2)"
   ]
  },
  {
   "cell_type": "code",
   "execution_count": 53,
   "metadata": {},
   "outputs": [
    {
     "data": {
      "text/plain": [
       "1.4142135623730951"
      ]
     },
     "execution_count": 53,
     "metadata": {},
     "output_type": "execute_result"
    }
   ],
   "source": [
    "pow(2,1/2)"
   ]
  },
  {
   "cell_type": "code",
   "execution_count": 2,
   "metadata": {},
   "outputs": [
    {
     "data": {
      "text/plain": [
       "2.4"
      ]
     },
     "execution_count": 2,
     "metadata": {},
     "output_type": "execute_result"
    }
   ],
   "source": [
    "12/5"
   ]
  },
  {
   "cell_type": "code",
   "execution_count": 3,
   "metadata": {},
   "outputs": [
    {
     "name": "stdout",
     "output_type": "stream",
     "text": [
      "<class 'int'>\n",
      "<class 'float'>\n"
     ]
    }
   ],
   "source": [
    "intnum=100\n",
    "floatnum=100.0\n",
    "print(type(intnum))\n",
    "print(type(floatnum))"
   ]
  },
  {
   "cell_type": "code",
   "execution_count": 5,
   "metadata": {},
   "outputs": [
    {
     "name": "stdout",
     "output_type": "stream",
     "text": [
      "<class 'int'>\n",
      "<class 'float'>\n",
      "<class 'str'>\n"
     ]
    }
   ],
   "source": [
    "intnum=100\n",
    "floatnum=100.0\n",
    "strdata=\"하이\"\n",
    "print(type(intnum))\n",
    "print(type(floatnum))\n",
    "print(type(strdata))"
   ]
  },
  {
   "cell_type": "code",
   "execution_count": 8,
   "metadata": {},
   "outputs": [
    {
     "name": "stdout",
     "output_type": "stream",
     "text": [
      "100안녕\n"
     ]
    }
   ],
   "source": [
    "intnum = 100\n",
    "num = str(intnum)\n",
    "strdata = \"안녕\"\n",
    "print(num + strdata)"
   ]
  },
  {
   "cell_type": "code",
   "execution_count": 9,
   "metadata": {},
   "outputs": [
    {
     "name": "stdout",
     "output_type": "stream",
     "text": [
      "여러분 안녕하세요!!\n"
     ]
    }
   ],
   "source": [
    "hello = \"여러분 안녕하세요!!\"\n",
    "print(hello)"
   ]
  },
  {
   "cell_type": "code",
   "execution_count": 11,
   "metadata": {},
   "outputs": [
    {
     "name": "stdout",
     "output_type": "stream",
     "text": [
      "\"여러분\" 안녕하세요!!\n"
     ]
    }
   ],
   "source": [
    "hello = '\"여러분\" 안녕하세요!!'\n",
    "print(hello)"
   ]
  },
  {
   "cell_type": "code",
   "execution_count": 12,
   "metadata": {},
   "outputs": [
    {
     "name": "stdout",
     "output_type": "stream",
     "text": [
      "안녕하세요\n",
      "반갑습니다\n"
     ]
    }
   ],
   "source": [
    "hello_1 = '''안녕하세요\n",
    "반갑습니다'''\n",
    "print(hello_1)"
   ]
  },
  {
   "cell_type": "code",
   "execution_count": 13,
   "metadata": {},
   "outputs": [
    {
     "name": "stdout",
     "output_type": "stream",
     "text": [
      "안녕 \n",
      " 하세요\n"
     ]
    }
   ],
   "source": [
    "hello_2 = \"안녕 \\n 하세요\"\n",
    "print(hello_2)"
   ]
  },
  {
   "cell_type": "code",
   "execution_count": 19,
   "metadata": {},
   "outputs": [
    {
     "name": "stdout",
     "output_type": "stream",
     "text": [
      "a\n"
     ]
    }
   ],
   "source": [
    "data = '\\U00000061'\n",
    "print(data)"
   ]
  },
  {
   "cell_type": "code",
   "execution_count": 32,
   "metadata": {},
   "outputs": [
    {
     "name": "stdout",
     "output_type": "stream",
     "text": [
      "4\n",
      "0\n"
     ]
    }
   ],
   "source": [
    "#boolean 형\n",
    "print(2 and 4)\n",
    "print(2 & 4)"
   ]
  },
  {
   "cell_type": "code",
   "execution_count": 29,
   "metadata": {},
   "outputs": [
    {
     "name": "stdout",
     "output_type": "stream",
     "text": [
      "True\n"
     ]
    }
   ],
   "source": [
    "print(False or True)"
   ]
  },
  {
   "cell_type": "code",
   "execution_count": 39,
   "metadata": {},
   "outputs": [
    {
     "name": "stdout",
     "output_type": "stream",
     "text": [
      "3.0\n",
      "2.0\n",
      "(5+9j)\n",
      "(-12+21j)\n",
      "(-1-3j)\n",
      "(0.5333333333333333-0.06666666666666667j)\n"
     ]
    }
   ],
   "source": [
    "#복소수 연산\n",
    "number_1 = 2+3j\n",
    "number_2 = 3+6j\n",
    "print(number_1.imag)\n",
    "print(number_1.real)\n",
    "print(number_1+number_2)\n",
    "print(number_1*number_2)\n",
    "print(number_1-number_2)\n",
    "print(number_1/number_2)"
   ]
  },
  {
   "cell_type": "code",
   "execution_count": 46,
   "metadata": {},
   "outputs": [
    {
     "name": "stdout",
     "output_type": "stream",
     "text": [
      "True\n",
      "False\n",
      "True\n",
      "False\n"
     ]
    }
   ],
   "source": [
    "#bool test\n",
    "print(bool(-1))\n",
    "print(bool(0))\n",
    "print(bool(1))\n",
    "print(bool(None))"
   ]
  },
  {
   "cell_type": "code",
   "execution_count": 47,
   "metadata": {},
   "outputs": [
    {
     "data": {
      "text/plain": [
       "False"
      ]
     },
     "execution_count": 47,
     "metadata": {},
     "output_type": "execute_result"
    }
   ],
   "source": [
    "bool(None)"
   ]
  },
  {
   "cell_type": "code",
   "execution_count": 48,
   "metadata": {},
   "outputs": [
    {
     "data": {
      "text/plain": [
       "False"
      ]
     },
     "execution_count": 48,
     "metadata": {},
     "output_type": "execute_result"
    }
   ],
   "source": [
    "bool('')"
   ]
  },
  {
   "cell_type": "code",
   "execution_count": 52,
   "metadata": {},
   "outputs": [
    {
     "data": {
      "text/plain": [
       "True"
      ]
     },
     "execution_count": 52,
     "metadata": {},
     "output_type": "execute_result"
    }
   ],
   "source": [
    "str = 'hello'\n",
    "bool(str)"
   ]
  },
  {
   "cell_type": "code",
   "execution_count": 53,
   "metadata": {},
   "outputs": [],
   "source": [
    "# 파이썬 주석은 #\n",
    "# 주석 단축기는 ctr+/"
   ]
  },
  {
   "cell_type": "code",
   "execution_count": 54,
   "metadata": {},
   "outputs": [
    {
     "name": "stdout",
     "output_type": "stream",
     "text": [
      "ㅇㅇ?\n"
     ]
    }
   ],
   "source": [
    "'''\n",
    "이것\n",
    "파이썬\n",
    "..\n",
    "'''\n",
    "print('ㅇㅇ?')"
   ]
  },
  {
   "cell_type": "code",
   "execution_count": 59,
   "metadata": {},
   "outputs": [
    {
     "data": {
      "text/plain": [
       "'\\n\\nprint(d)\\n\\n\\n\\n\\n\\n\\nd\\n'"
      ]
     },
     "execution_count": 59,
     "metadata": {},
     "output_type": "execute_result"
    }
   ],
   "source": [
    "d=100\n",
    "'''\n",
    "\n",
    "print(d)\n",
    "\n",
    "\n",
    "\n",
    "\n",
    "\n",
    "\n",
    "d\n",
    "'''\n",
    "# print(d+1)"
   ]
  },
  {
   "cell_type": "code",
   "execution_count": 62,
   "metadata": {},
   "outputs": [
    {
     "name": "stdout",
     "output_type": "stream",
     "text": [
      "당신이 사는 곳은?1\n",
      "1\n",
      "<class 'str'>\n",
      "당신이 사는 곳은?a\n",
      "<class 'str'>\n",
      "a\n"
     ]
    }
   ],
   "source": [
    "input_data = input(\"당신이 사는 곳은?\")\n",
    "print(input_data)\n",
    "print(type(input_data))\n",
    "\n",
    "input_data = input(\"당신이 사는 곳은?\")\n",
    "print(type(input_data))\n",
    "print(input_data)"
   ]
  },
  {
   "cell_type": "code",
   "execution_count": 65,
   "metadata": {},
   "outputs": [
    {
     "name": "stdout",
     "output_type": "stream",
     "text": [
      "당신의 이름은?aa\n",
      "aa님 반갑습니다\n"
     ]
    }
   ],
   "source": [
    "input_name = input(\"당신의 이름은?\")\n",
    "print(input_name + \"님 반갑습니다\")"
   ]
  },
  {
   "cell_type": "code",
   "execution_count": 70,
   "metadata": {},
   "outputs": [
    {
     "name": "stdout",
     "output_type": "stream",
     "text": [
      "num = 100\n",
      "num = 200\n",
      "num = 2.0\n"
     ]
    }
   ],
   "source": [
    "num = 100;\n",
    "print('num =' , num)\n",
    "\n",
    "num += 100\n",
    "print('num =' , num)\n",
    "\n",
    "num /= 100\n",
    "print('num =' , num)"
   ]
  },
  {
   "cell_type": "markdown",
   "metadata": {},
   "source": [
    "# if 문"
   ]
  },
  {
   "cell_type": "code",
   "execution_count": 72,
   "metadata": {},
   "outputs": [
    {
     "name": "stdout",
     "output_type": "stream",
     "text": [
      "돈 내세요!!\n"
     ]
    }
   ],
   "source": [
    "철수 = 20\n",
    "if 철수 < 20:\n",
    "    print(\"청소년 할인 됩니다.\")\n",
    "print(\"돈 내세요!!\")"
   ]
  },
  {
   "cell_type": "code",
   "execution_count": 75,
   "metadata": {},
   "outputs": [
    {
     "name": "stdout",
     "output_type": "stream",
     "text": [
      "목표 달성\n",
      "고생하셨습니다.\n"
     ]
    }
   ],
   "source": [
    "walking_cnt = 1001\n",
    "if walking_cnt >= 1000 :\n",
    "    print(\"목표 달성\")\n",
    "print(\"고생하셨습니다.\")"
   ]
  },
  {
   "cell_type": "code",
   "execution_count": 79,
   "metadata": {},
   "outputs": [
    {
     "name": "stdout",
     "output_type": "stream",
     "text": [
      "걸음 수 : 1\n",
      "고생하셨습니다.\n"
     ]
    }
   ],
   "source": [
    "walking_step = input(\"걸음 수 : \")\n",
    "if int(walking_step) >= 1000 :\n",
    "    print(\"목표 달성\")\n",
    "print(\"고생하셨습니다.\")"
   ]
  },
  {
   "cell_type": "code",
   "execution_count": 82,
   "metadata": {
    "scrolled": false
   },
   "outputs": [
    {
     "name": "stdout",
     "output_type": "stream",
     "text": [
      "당신의 파워는? 2000\n",
      "형님!!\n"
     ]
    }
   ],
   "source": [
    "man_power = input(\"당신의 파워는? \")\n",
    "power = int(man_power)\n",
    "\n",
    "if power <= 100 :\n",
    "    print(\"시비걸기\")\n",
    "elif power <= 200 :\n",
    "    print(\"고민해보기\")\n",
    "elif power > 200 :\n",
    "    print(\"형님!!\")"
   ]
  },
  {
   "cell_type": "markdown",
   "metadata": {},
   "source": [
    "# while 문"
   ]
  },
  {
   "cell_type": "code",
   "execution_count": 86,
   "metadata": {},
   "outputs": [],
   "source": [
    "while False :\n",
    "    print(\"10분간 휴식\")"
   ]
  },
  {
   "cell_type": "markdown",
   "metadata": {},
   "source": [
    "# for 문"
   ]
  },
  {
   "cell_type": "code",
   "execution_count": 91,
   "metadata": {},
   "outputs": [
    {
     "data": {
      "text/plain": [
       "range(0, 6)"
      ]
     },
     "execution_count": 91,
     "metadata": {},
     "output_type": "execute_result"
    }
   ],
   "source": [
    "range(6)"
   ]
  },
  {
   "cell_type": "code",
   "execution_count": 94,
   "metadata": {},
   "outputs": [
    {
     "name": "stdout",
     "output_type": "stream",
     "text": [
      "-1\n",
      "0\n",
      "1\n",
      "2\n",
      "3\n",
      "4\n",
      "5\n"
     ]
    }
   ],
   "source": [
    "for i in range(-1,6):\n",
    "    print(i)"
   ]
  },
  {
   "cell_type": "code",
   "execution_count": 96,
   "metadata": {},
   "outputs": [
    {
     "name": "stdout",
     "output_type": "stream",
     "text": [
      "영희\n",
      "철수\n",
      "만수\n",
      "똘이\n"
     ]
    }
   ],
   "source": [
    "arr = [\"영희\", \"철수\", \"만수\", \"똘이\"]\n",
    "for i in arr:\n",
    "    print(i)"
   ]
  },
  {
   "cell_type": "code",
   "execution_count": 97,
   "metadata": {},
   "outputs": [
    {
     "name": "stdout",
     "output_type": "stream",
     "text": [
      "Hello world\n",
      "Hello world\n",
      "Hello world\n",
      "Hello world\n",
      "Hello world\n",
      "Hello world\n",
      "Hello world\n",
      "Hello world\n",
      "Hello world\n",
      "Hello world\n"
     ]
    }
   ],
   "source": [
    "for _ in range(10):\n",
    "    print(\"Hello world\")"
   ]
  },
  {
   "cell_type": "markdown",
   "metadata": {},
   "source": [
    "# range()\n",
    "    ### range ([start], [stop], [step])"
   ]
  },
  {
   "cell_type": "code",
   "execution_count": 100,
   "metadata": {},
   "outputs": [
    {
     "name": "stdout",
     "output_type": "stream",
     "text": [
      "5\n",
      "<class 'range'>\n",
      "1\n",
      "3\n",
      "5\n",
      "7\n",
      "9\n"
     ]
    }
   ],
   "source": [
    "arr = range(1, 10, 2)\n",
    "print(len(arr))\n",
    "print(type(arr))\n",
    "for i in arr:\n",
    "    print(i)"
   ]
  },
  {
   "cell_type": "code",
   "execution_count": 102,
   "metadata": {},
   "outputs": [
    {
     "name": "stdout",
     "output_type": "stream",
     "text": [
      "4\n",
      "<class 'list'>\n",
      "영희\n",
      "철수\n",
      "만수\n",
      "똘이\n"
     ]
    }
   ],
   "source": [
    "arr = [\"영희\", \"철수\", \"만수\", \"똘이\"]\n",
    "print(len(arr))\n",
    "print(type(arr))\n",
    "for i in arr:\n",
    "    print(i)"
   ]
  },
  {
   "cell_type": "code",
   "execution_count": 109,
   "metadata": {},
   "outputs": [
    {
     "name": "stdout",
     "output_type": "stream",
     "text": [
      "5050\n"
     ]
    }
   ],
   "source": [
    "sum = 0\n",
    "for i in range(101):\n",
    "    sum = sum + i\n",
    "print(sum)"
   ]
  },
  {
   "cell_type": "code",
   "execution_count": 111,
   "metadata": {},
   "outputs": [
    {
     "name": "stdout",
     "output_type": "stream",
     "text": [
      "1 곱하기 1 는 1\n",
      "1 곱하기 2 는 2\n",
      "1 곱하기 3 는 3\n",
      "1 곱하기 4 는 4\n",
      "1 곱하기 5 는 5\n",
      "1 곱하기 6 는 6\n",
      "1 곱하기 7 는 7\n",
      "1 곱하기 8 는 8\n",
      "1 곱하기 9 는 9\n",
      "2 곱하기 1 는 2\n",
      "2 곱하기 2 는 4\n",
      "2 곱하기 3 는 6\n",
      "2 곱하기 4 는 8\n",
      "2 곱하기 5 는 10\n",
      "2 곱하기 6 는 12\n",
      "2 곱하기 7 는 14\n",
      "2 곱하기 8 는 16\n",
      "2 곱하기 9 는 18\n",
      "3 곱하기 1 는 3\n",
      "3 곱하기 2 는 6\n",
      "3 곱하기 3 는 9\n",
      "3 곱하기 4 는 12\n",
      "3 곱하기 5 는 15\n",
      "3 곱하기 6 는 18\n",
      "3 곱하기 7 는 21\n",
      "3 곱하기 8 는 24\n",
      "3 곱하기 9 는 27\n",
      "4 곱하기 1 는 4\n",
      "4 곱하기 2 는 8\n",
      "4 곱하기 3 는 12\n",
      "4 곱하기 4 는 16\n",
      "4 곱하기 5 는 20\n",
      "4 곱하기 6 는 24\n",
      "4 곱하기 7 는 28\n",
      "4 곱하기 8 는 32\n",
      "4 곱하기 9 는 36\n",
      "5 곱하기 1 는 5\n",
      "5 곱하기 2 는 10\n",
      "5 곱하기 3 는 15\n",
      "5 곱하기 4 는 20\n",
      "5 곱하기 5 는 25\n",
      "5 곱하기 6 는 30\n",
      "5 곱하기 7 는 35\n",
      "5 곱하기 8 는 40\n",
      "5 곱하기 9 는 45\n",
      "6 곱하기 1 는 6\n",
      "6 곱하기 2 는 12\n",
      "6 곱하기 3 는 18\n",
      "6 곱하기 4 는 24\n",
      "6 곱하기 5 는 30\n",
      "6 곱하기 6 는 36\n",
      "6 곱하기 7 는 42\n",
      "6 곱하기 8 는 48\n",
      "6 곱하기 9 는 54\n",
      "7 곱하기 1 는 7\n",
      "7 곱하기 2 는 14\n",
      "7 곱하기 3 는 21\n",
      "7 곱하기 4 는 28\n",
      "7 곱하기 5 는 35\n",
      "7 곱하기 6 는 42\n",
      "7 곱하기 7 는 49\n",
      "7 곱하기 8 는 56\n",
      "7 곱하기 9 는 63\n",
      "8 곱하기 1 는 8\n",
      "8 곱하기 2 는 16\n",
      "8 곱하기 3 는 24\n",
      "8 곱하기 4 는 32\n",
      "8 곱하기 5 는 40\n",
      "8 곱하기 6 는 48\n",
      "8 곱하기 7 는 56\n",
      "8 곱하기 8 는 64\n",
      "8 곱하기 9 는 72\n",
      "9 곱하기 1 는 9\n",
      "9 곱하기 2 는 18\n",
      "9 곱하기 3 는 27\n",
      "9 곱하기 4 는 36\n",
      "9 곱하기 5 는 45\n",
      "9 곱하기 6 는 54\n",
      "9 곱하기 7 는 63\n",
      "9 곱하기 8 는 72\n",
      "9 곱하기 9 는 81\n"
     ]
    }
   ],
   "source": [
    "multiple = 0\n",
    "for i in range(1, 10):\n",
    "    for j in range(1, 10):\n",
    "        multiple = i * j\n",
    "        print(i, '곱하기', j, '는', multiple)\n",
    "    "
   ]
  },
  {
   "cell_type": "markdown",
   "metadata": {},
   "source": [
    "# n 팩토리얼"
   ]
  },
  {
   "cell_type": "code",
   "execution_count": 116,
   "metadata": {},
   "outputs": [
    {
     "name": "stdout",
     "output_type": "stream",
     "text": [
      "'n'을 입력하세요 : 10\n",
      "10 팩토리얼은  3628800\n"
     ]
    }
   ],
   "source": [
    "n = int(input(\"'n'을 입력하세요 : \"))\n",
    "fact = 1\n",
    "\n",
    "for i in range(1, n+1):\n",
    "    fact = fact * i\n",
    "print(n, '팩토리얼은 ',fact)"
   ]
  },
  {
   "cell_type": "markdown",
   "metadata": {},
   "source": [
    "# while 문 예제"
   ]
  },
  {
   "cell_type": "code",
   "execution_count": 117,
   "metadata": {},
   "outputs": [
    {
     "name": "stdout",
     "output_type": "stream",
     "text": [
      "합계를 구할 수를 입력하세요 : 100\n",
      "1부터 100까지의 합은 5050\n"
     ]
    }
   ],
   "source": [
    "n = int(input('합계를 구할 수를 입력하세요 : '))\n",
    "s = 0\n",
    "i = 1\n",
    "while i <= n:\n",
    "    s = s + i\n",
    "    i += 1\n",
    "print('1부터 {}까지의 합은 {}' .format(n, s))"
   ]
  },
  {
   "cell_type": "code",
   "execution_count": 2,
   "metadata": {
    "scrolled": true
   },
   "outputs": [
    {
     "name": "stdout",
     "output_type": "stream",
     "text": [
      "합계를 구할 수를 입력하세요 : 10\n",
      "1부터 10까지의 합은 55\n"
     ]
    }
   ],
   "source": [
    "n = int(input('합계를 구할 수를 입력하세요 : '))\n",
    "s = 0\n",
    "i = 1\n",
    "base = '1부터 {}까지의 합은 {}'\n",
    "while i <= n:\n",
    "    s = s + i\n",
    "    i += 1\n",
    "print(base.format(n, s))"
   ]
  },
  {
   "cell_type": "code",
   "execution_count": 6,
   "metadata": {},
   "outputs": [
    {
     "name": "stdout",
     "output_type": "stream",
     "text": [
      "입력하세요 10\n",
      "55\n"
     ]
    }
   ],
   "source": [
    "n=-1\n",
    "while n<=0:\n",
    "    n = int(input(\"입력하세요 \"))\n",
    "    if(n<=0):\n",
    "        print(\"양수를 입력하세요\")\n",
    "s=0\n",
    "for i in range(1, n+1):\n",
    "    s = s + i\n",
    "print(s)"
   ]
  },
  {
   "cell_type": "markdown",
   "metadata": {},
   "source": [
    "## break, continue"
   ]
  },
  {
   "cell_type": "code",
   "execution_count": 20,
   "metadata": {},
   "outputs": [
    {
     "name": "stdout",
     "output_type": "stream",
     "text": [
      "P\n",
      "r\n",
      "The end\n"
     ]
    }
   ],
   "source": [
    "str = \"Programming Language\"\n",
    "for i in str:\n",
    "    if i in ['a', 'e', 'o', 'i', 'u']:\n",
    "        break;\n",
    "    print(i)\n",
    "print(\"The end\")"
   ]
  },
  {
   "cell_type": "code",
   "execution_count": 21,
   "metadata": {},
   "outputs": [
    {
     "name": "stdout",
     "output_type": "stream",
     "text": [
      "P\n",
      "r\n",
      "g\n",
      "r\n",
      "m\n",
      "m\n",
      "n\n",
      "g\n",
      " \n",
      "L\n",
      "n\n",
      "g\n",
      "g\n",
      "The end\n"
     ]
    }
   ],
   "source": [
    "str = \"Programming Language\"\n",
    "for i in str:\n",
    "    if i in ['a', 'e', 'o', 'i', 'u']:\n",
    "        continue\n",
    "    print(i)\n",
    "print(\"The end\")"
   ]
  },
  {
   "cell_type": "code",
   "execution_count": null,
   "metadata": {},
   "outputs": [],
   "source": []
  }
 ],
 "metadata": {
  "kernelspec": {
   "display_name": "Python 3",
   "language": "python",
   "name": "python3"
  },
  "language_info": {
   "codemirror_mode": {
    "name": "ipython",
    "version": 3
   },
   "file_extension": ".py",
   "mimetype": "text/x-python",
   "name": "python",
   "nbconvert_exporter": "python",
   "pygments_lexer": "ipython3",
   "version": "3.8.3"
  }
 },
 "nbformat": 4,
 "nbformat_minor": 4
}
