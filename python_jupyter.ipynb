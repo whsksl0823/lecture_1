{
 "cells": [
  {
   "cell_type": "code",
   "execution_count": 22,
   "metadata": {},
   "outputs": [
    {
     "name": "stdout",
     "output_type": "stream",
     "text": [
      "5\n"
     ]
    }
   ],
   "source": [
    "x = 3\n",
    "y = 2\n",
    "print(x+y)"
   ]
  },
  {
   "cell_type": "code",
   "execution_count": 24,
   "metadata": {},
   "outputs": [
    {
     "name": "stdout",
     "output_type": "stream",
     "text": [
      "5\n"
     ]
    }
   ],
   "source": [
    "x = \"3\"\n",
    "y = \"2\"\n",
    "print(int(x)+int(y))"
   ]
  },
  {
   "cell_type": "code",
   "execution_count": 26,
   "metadata": {},
   "outputs": [
    {
     "name": "stdout",
     "output_type": "stream",
     "text": [
      "27000000\n"
     ]
    }
   ],
   "source": [
    "x = 300\n",
    "print(x**3)"
   ]
  },
  {
   "cell_type": "code",
   "execution_count": 27,
   "metadata": {},
   "outputs": [
    {
     "name": "stdout",
     "output_type": "stream",
     "text": [
      "원의 반지름 4.0\n",
      "원의 면적 50.24\n",
      "원의 둘레 25.12\n"
     ]
    }
   ],
   "source": [
    "print('원의 반지름', 4.0)\n",
    "print('원의 면적', 3.14 * 4.0 * 4.0)\n",
    "print('원의 둘레', 2.0 * 3.14 * 4.0)"
   ]
  },
  {
   "cell_type": "code",
   "execution_count": 28,
   "metadata": {},
   "outputs": [
    {
     "name": "stdout",
     "output_type": "stream",
     "text": [
      "원의 반지름 4.0\n",
      "원의 면적 50.24\n",
      "원의 둘레 25.12\n"
     ]
    }
   ],
   "source": [
    "radius = 4.0\n",
    "print('원의 반지름', radius)\n",
    "print('원의 면적', 3.14 * radius * radius)\n",
    "print('원의 둘레', 2.0 * 3.14 * radius)"
   ]
  },
  {
   "cell_type": "code",
   "execution_count": 34,
   "metadata": {},
   "outputs": [
    {
     "name": "stdout",
     "output_type": "stream",
     "text": [
      "원의 반지름 4.0\n",
      "원의 면적 50.24\n",
      "원의 둘레 2.0 * 3.14 * radius\n"
     ]
    }
   ],
   "source": [
    "radius = 4.0\n",
    "print('원의 반지름', radius)\n",
    "print('원의 면적', 3.14 * radius * radius)\n",
    "print('원의 둘레',\"2.0 * 3.14 * radius\")"
   ]
  },
  {
   "cell_type": "markdown",
   "metadata": {},
   "source": [
    "summ = 100\n",
    "lst = [10, 20, 30]\n",
    "total = sum(lst)"
   ]
  },
  {
   "cell_type": "code",
   "execution_count": 40,
   "metadata": {},
   "outputs": [
    {
     "name": "stdout",
     "output_type": "stream",
     "text": [
      "'안녕!' 나는 김종환 이야. 나는 나이가 27 살이야.\n"
     ]
    }
   ],
   "source": [
    "name = '김종환'\n",
    "age = 27\n",
    "print(\"'안녕!' 나는\", name,'이야. 나는 나이가',age,'살이야.')"
   ]
  },
  {
   "cell_type": "code",
   "execution_count": 41,
   "metadata": {},
   "outputs": [
    {
     "name": "stdout",
     "output_type": "stream",
     "text": [
      "사각형의 면적 1200\n"
     ]
    }
   ],
   "source": [
    "width = 20\n",
    "height = 40\n",
    "width = 30\n",
    "area = width * height\n",
    "print('사각형의 면적', area)"
   ]
  },
  {
   "cell_type": "code",
   "execution_count": 42,
   "metadata": {},
   "outputs": [
    {
     "name": "stdout",
     "output_type": "stream",
     "text": [
      "area 1200\n"
     ]
    }
   ],
   "source": [
    "width = 20\n",
    "height = 40\n",
    "width = 30\n",
    "area = width * height\n",
    "print('area', width * height)"
   ]
  },
  {
   "cell_type": "code",
   "execution_count": 44,
   "metadata": {},
   "outputs": [
    {
     "data": {
      "text/plain": [
       "3.9"
      ]
     },
     "execution_count": 44,
     "metadata": {},
     "output_type": "execute_result"
    }
   ],
   "source": [
    "4-0.1"
   ]
  },
  {
   "cell_type": "code",
   "execution_count": 52,
   "metadata": {},
   "outputs": [
    {
     "data": {
      "text/plain": [
       "1.7320508075688772"
      ]
     },
     "execution_count": 52,
     "metadata": {},
     "output_type": "execute_result"
    }
   ],
   "source": [
    "3**(1/2)"
   ]
  },
  {
   "cell_type": "code",
   "execution_count": 53,
   "metadata": {},
   "outputs": [
    {
     "data": {
      "text/plain": [
       "1.4142135623730951"
      ]
     },
     "execution_count": 53,
     "metadata": {},
     "output_type": "execute_result"
    }
   ],
   "source": [
    "pow(2,1/2)"
   ]
  },
  {
   "cell_type": "code",
   "execution_count": null,
   "metadata": {},
   "outputs": [],
   "source": []
  }
 ],
 "metadata": {
  "kernelspec": {
   "display_name": "Python 3",
   "language": "python",
   "name": "python3"
  },
  "language_info": {
   "codemirror_mode": {
    "name": "ipython",
    "version": 3
   },
   "file_extension": ".py",
   "mimetype": "text/x-python",
   "name": "python",
   "nbconvert_exporter": "python",
   "pygments_lexer": "ipython3",
   "version": "3.8.3"
  }
 },
 "nbformat": 4,
 "nbformat_minor": 4
}
